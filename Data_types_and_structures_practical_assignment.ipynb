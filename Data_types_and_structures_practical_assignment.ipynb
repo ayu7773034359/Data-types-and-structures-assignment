{
  "nbformat": 4,
  "nbformat_minor": 0,
  "metadata": {
    "colab": {
      "provenance": []
    },
    "kernelspec": {
      "name": "python3",
      "display_name": "Python 3"
    },
    "language_info": {
      "name": "python"
    }
  },
  "cells": [
    {
      "cell_type": "markdown",
      "source": [
        " 1.Write a code to create a string with your name and print it"
      ],
      "metadata": {
        "id": "FRD2xz_FBLpJ"
      }
    },
    {
      "cell_type": "code",
      "source": [
        "name = \"Ayushi\"\n",
        "print(name)"
      ],
      "metadata": {
        "colab": {
          "base_uri": "https://localhost:8080/"
        },
        "id": "SULbdr4yBYyV",
        "outputId": "f6027cbd-29cf-41d0-ac12-69e804a638ae"
      },
      "execution_count": null,
      "outputs": [
        {
          "output_type": "stream",
          "name": "stdout",
          "text": [
            "Ayushi\n"
          ]
        }
      ]
    },
    {
      "cell_type": "markdown",
      "source": [
        " 2. Write a code to find the length of the string \"Hello World\""
      ],
      "metadata": {
        "id": "8fw_n8tXBZaC"
      }
    },
    {
      "cell_type": "code",
      "source": [
        "my_string = \"Hello world\"\n",
        "print(len(my_string))"
      ],
      "metadata": {
        "colab": {
          "base_uri": "https://localhost:8080/"
        },
        "id": "1OfTSPb2BdO9",
        "outputId": "469f8d5f-e4b9-400c-8961-968182f9c280"
      },
      "execution_count": null,
      "outputs": [
        {
          "output_type": "stream",
          "name": "stdout",
          "text": [
            "11\n"
          ]
        }
      ]
    },
    {
      "cell_type": "markdown",
      "source": [
        " 3.Write a code to slice the first 3 characters from the string \"Python Programming\""
      ],
      "metadata": {
        "id": "B3Xchb3OBejS"
      }
    },
    {
      "cell_type": "code",
      "source": [
        "my_string = \"python programming\"\n",
        "\n",
        "#sliced the first 3 characters from the string\n",
        "sliced_string = my_string[:3]\n",
        "# Print the sliced string\n",
        "print(\"The first 3 characters are:\", sliced_string)"
      ],
      "metadata": {
        "colab": {
          "base_uri": "https://localhost:8080/"
        },
        "id": "cX9xwcZZBiQF",
        "outputId": "528d0e73-b5b0-4d8b-b128-b10d78a83837"
      },
      "execution_count": null,
      "outputs": [
        {
          "output_type": "stream",
          "name": "stdout",
          "text": [
            "The first 3 characters are: pyt\n"
          ]
        }
      ]
    },
    {
      "cell_type": "markdown",
      "source": [
        " 4.Write a code to convert the string \"hello\" to uppercase."
      ],
      "metadata": {
        "id": "ORW2Wj6rBk-h"
      }
    },
    {
      "cell_type": "code",
      "source": [
        "my_string = \"hello\"\n",
        "uppercase_string = my_string.upper()\n",
        "print(uppercase_string)"
      ],
      "metadata": {
        "colab": {
          "base_uri": "https://localhost:8080/"
        },
        "id": "leGcocddFW3K",
        "outputId": "09775481-0c8e-45bc-e3bb-b67b581dadd9"
      },
      "execution_count": null,
      "outputs": [
        {
          "output_type": "stream",
          "name": "stdout",
          "text": [
            "HELLO\n"
          ]
        }
      ]
    },
    {
      "cell_type": "markdown",
      "source": [
        " 5.Write a code to replace the word \"apple\" with \"orange\" in the string \"I like apple\""
      ],
      "metadata": {
        "id": "PyjFs1kzBpd7"
      }
    },
    {
      "cell_type": "code",
      "source": [
        "original_string = \"I like apple\"\n",
        "new_string = original_string.replace(\"apple\", \"orange\")\n",
        "print(new_string)"
      ],
      "metadata": {
        "colab": {
          "base_uri": "https://localhost:8080/"
        },
        "id": "lHioeWguBsrt",
        "outputId": "fe236501-adb0-4b7b-c5a2-997eb7868dd1"
      },
      "execution_count": null,
      "outputs": [
        {
          "output_type": "stream",
          "name": "stdout",
          "text": [
            "I like orange\n"
          ]
        }
      ]
    },
    {
      "cell_type": "markdown",
      "source": [
        " 6.Write a code to create a list with numbers 1 to 5 and print it"
      ],
      "metadata": {
        "id": "GeU6f0LiBtZO"
      }
    },
    {
      "cell_type": "code",
      "source": [
        "numbers = [1,2,3,4,5]\n",
        "print(numbers)"
      ],
      "metadata": {
        "colab": {
          "base_uri": "https://localhost:8080/"
        },
        "id": "1Tw4aByyBw9N",
        "outputId": "18d1bc53-0d0e-47c7-8bb2-fa369ac68f48"
      },
      "execution_count": null,
      "outputs": [
        {
          "output_type": "stream",
          "name": "stdout",
          "text": [
            "[1, 2, 3, 4, 5]\n"
          ]
        }
      ]
    },
    {
      "cell_type": "markdown",
      "source": [
        " 7.P Write a code to append the number 10 to the list [1, 2, 3, 4]"
      ],
      "metadata": {
        "id": "YhttfcrwBx3x"
      }
    },
    {
      "cell_type": "code",
      "source": [
        "numbers =[1,2,3,4]\n",
        "numbers.append(10)\n",
        "print(numbers)"
      ],
      "metadata": {
        "colab": {
          "base_uri": "https://localhost:8080/"
        },
        "id": "DdqAcCP0B1OF",
        "outputId": "ae2b0407-90da-4694-9a03-0823f30ae80e"
      },
      "execution_count": null,
      "outputs": [
        {
          "output_type": "stream",
          "name": "stdout",
          "text": [
            "[1, 2, 3, 4, 10]\n"
          ]
        }
      ]
    },
    {
      "cell_type": "markdown",
      "source": [
        " 8.Write a code to remove the number 3 from the list [1, 2, 3, 4, 5]"
      ],
      "metadata": {
        "id": "mI8sONEJB2ko"
      }
    },
    {
      "cell_type": "code",
      "source": [
        "numbers = [1,2,3,4,5]\n",
        "numbers.remove(3)\n",
        "print(numbers)"
      ],
      "metadata": {
        "colab": {
          "base_uri": "https://localhost:8080/"
        },
        "id": "pARH59QdB6WN",
        "outputId": "c229d56a-493a-46ca-8223-c1647fca028e"
      },
      "execution_count": null,
      "outputs": [
        {
          "output_type": "stream",
          "name": "stdout",
          "text": [
            "[1, 2, 4, 5]\n"
          ]
        }
      ]
    },
    {
      "cell_type": "markdown",
      "source": [
        " 9.Write a code to access the second element in the list ['a', 'b', 'c', 'd']"
      ],
      "metadata": {
        "id": "ymYnRxqGB7R9"
      }
    },
    {
      "cell_type": "code",
      "source": [
        "elements = ['a','b','c','d']\n",
        "print(elements[1])"
      ],
      "metadata": {
        "colab": {
          "base_uri": "https://localhost:8080/"
        },
        "id": "pzrERTRtB-V1",
        "outputId": "269371ab-2f64-4ea9-ba79-e313be8805ad"
      },
      "execution_count": null,
      "outputs": [
        {
          "output_type": "stream",
          "name": "stdout",
          "text": [
            "b\n"
          ]
        }
      ]
    },
    {
      "cell_type": "markdown",
      "source": [
        " 10.Write a code to reverse the list [10, 20, 30, 40, 50]."
      ],
      "metadata": {
        "id": "WtA0vQ2FB-5j"
      }
    },
    {
      "cell_type": "code",
      "source": [
        "numbers = [10, 20, 30, 40, 50]\n",
        "\n",
        "# Reverse the list\n",
        "numbers.reverse()\n",
        "\n",
        "# Print the reversed list\n",
        "print(\"The reversed list is:\", numbers)"
      ],
      "metadata": {
        "colab": {
          "base_uri": "https://localhost:8080/"
        },
        "id": "bVeb2YX6IEFC",
        "outputId": "9592b055-1ace-4820-bf39-5b5fa5b05b6c"
      },
      "execution_count": null,
      "outputs": [
        {
          "output_type": "stream",
          "name": "stdout",
          "text": [
            "The reversed list is: [50, 40, 30, 20, 10]\n"
          ]
        }
      ]
    },
    {
      "cell_type": "markdown",
      "source": [
        " 11.Write a code to create a tuple with the elements 100, 200, 300 and print it."
      ],
      "metadata": {
        "id": "rsJqEySMCEqh"
      }
    },
    {
      "cell_type": "code",
      "source": [
        "my_tuple = (100,200,300)\n",
        "print(my_tuple)"
      ],
      "metadata": {
        "colab": {
          "base_uri": "https://localhost:8080/"
        },
        "id": "0tGLebBJCIX1",
        "outputId": "4d620532-3aad-4ba1-ca29-8c5c55309b79"
      },
      "execution_count": null,
      "outputs": [
        {
          "output_type": "stream",
          "name": "stdout",
          "text": [
            "(100, 200, 300)\n"
          ]
        }
      ]
    },
    {
      "cell_type": "markdown",
      "source": [
        " 12.Write a code to access the second-to-last element of the tuple ('red', 'green', 'blue', 'yellow')."
      ],
      "metadata": {
        "id": "wvMp3pnjCJnb"
      }
    },
    {
      "cell_type": "code",
      "source": [
        "elements = ('red','green','blue','yellow')\n",
        "print(elements[-2])"
      ],
      "metadata": {
        "colab": {
          "base_uri": "https://localhost:8080/"
        },
        "id": "lHgkyawkCPJ1",
        "outputId": "9738c6c1-8e80-46d6-b882-200da2761e76"
      },
      "execution_count": null,
      "outputs": [
        {
          "output_type": "stream",
          "name": "stdout",
          "text": [
            "blue\n"
          ]
        }
      ]
    },
    {
      "cell_type": "markdown",
      "source": [
        " 13.. Write a code to find the minimum number in the tuple (10, 20, 5, 15)."
      ],
      "metadata": {
        "id": "l1LyCNcXCQ2w"
      }
    },
    {
      "cell_type": "code",
      "source": [
        "my_tuple = (10,20,5,15)\n",
        "print(min(my_tuple))"
      ],
      "metadata": {
        "colab": {
          "base_uri": "https://localhost:8080/"
        },
        "id": "FIXnBPGeCU19",
        "outputId": "c174802e-6322-4321-8dae-5ea207223c3e"
      },
      "execution_count": null,
      "outputs": [
        {
          "output_type": "stream",
          "name": "stdout",
          "text": [
            "5\n"
          ]
        }
      ]
    },
    {
      "cell_type": "markdown",
      "source": [
        " 14.Write a code to find the index of the element \"cat\" in the tuple ('dog', 'cat', 'rabbit')."
      ],
      "metadata": {
        "id": "p10kzuuuCV0h"
      }
    },
    {
      "cell_type": "code",
      "source": [
        "elements = ('dog','cat','rabbit')\n",
        "print(elements.index('cat'))"
      ],
      "metadata": {
        "colab": {
          "base_uri": "https://localhost:8080/"
        },
        "id": "ykfjScu4CZ2W",
        "outputId": "e024ec53-c368-465c-a016-9ca96ef40889"
      },
      "execution_count": null,
      "outputs": [
        {
          "output_type": "stream",
          "name": "stdout",
          "text": [
            "1\n"
          ]
        }
      ]
    },
    {
      "cell_type": "markdown",
      "source": [
        " 15.Write a code to create a tuple containing three different fruits and check if \"kiwi\" is in it."
      ],
      "metadata": {
        "id": "r47xE_hkCawU"
      }
    },
    {
      "cell_type": "code",
      "source": [
        "fruits = ('apple','banana','orange',)\n",
        "if 'kiwi' in fruits:\n",
        "    print('kiwi is in the tuple')\n",
        "else:\n",
        "    print('kiwi is not in the tuple')\n"
      ],
      "metadata": {
        "colab": {
          "base_uri": "https://localhost:8080/"
        },
        "id": "V--D4VGsCf9F",
        "outputId": "d40f771f-c598-4ee8-c571-94559c6a2799"
      },
      "execution_count": null,
      "outputs": [
        {
          "output_type": "stream",
          "name": "stdout",
          "text": [
            "kiwi is not in the tuple\n"
          ]
        }
      ]
    },
    {
      "cell_type": "markdown",
      "source": [
        " 16.Write a code to create a set with the elements 'a', 'b', 'c' and print it."
      ],
      "metadata": {
        "id": "BDZmtkwcCgpx"
      }
    },
    {
      "cell_type": "code",
      "source": [
        "my_set ={\"a\",\"b\",\"c\"}\n",
        "print(\"The set is:\",my_set)"
      ],
      "metadata": {
        "colab": {
          "base_uri": "https://localhost:8080/"
        },
        "id": "jGfWNeEgKWx1",
        "outputId": "005b9332-7e62-49aa-ce8f-06873ef15a8f"
      },
      "execution_count": null,
      "outputs": [
        {
          "output_type": "stream",
          "name": "stdout",
          "text": [
            "The set is: {'c', 'b', 'a'}\n"
          ]
        }
      ]
    },
    {
      "cell_type": "markdown",
      "source": [
        " 17.Write a code to clear all elements from the set {1, 2, 3, 4, 5}."
      ],
      "metadata": {
        "id": "s2vfDJ5YCkZI"
      }
    },
    {
      "cell_type": "code",
      "source": [
        "my_set = {1, 2, 3, 4, 5}\n",
        "\n",
        "# Clear all elements from the set\n",
        "my_set.clear()\n",
        "\n",
        "# Print the cleared set\n",
        "print(\"The cleared set is:\", my_set)"
      ],
      "metadata": {
        "colab": {
          "base_uri": "https://localhost:8080/"
        },
        "id": "5LK0A7NkCpHd",
        "outputId": "425286f3-f114-4ff2-dd67-c1d1ea02eab4"
      },
      "execution_count": null,
      "outputs": [
        {
          "output_type": "stream",
          "name": "stdout",
          "text": [
            "The cleared set is: set()\n"
          ]
        }
      ]
    },
    {
      "cell_type": "markdown",
      "source": [
        " 18.Write a code to remove the element 4 from the set {1, 2, 3, 4}."
      ],
      "metadata": {
        "id": "rzMxs5adCqGJ"
      }
    },
    {
      "cell_type": "code",
      "source": [
        "set = {1,2,3,4}\n",
        "set.remove(4)\n",
        "print(set)"
      ],
      "metadata": {
        "colab": {
          "base_uri": "https://localhost:8080/"
        },
        "id": "eisZX0ezCuJt",
        "outputId": "bd8845e4-bef4-43dc-9fef-65c4886758e9"
      },
      "execution_count": null,
      "outputs": [
        {
          "output_type": "stream",
          "name": "stdout",
          "text": [
            "{1, 2, 3}\n"
          ]
        }
      ]
    },
    {
      "cell_type": "markdown",
      "source": [
        " 19.Write a code to find the union of two sets {1, 2, 3} and {3, 4, 5}."
      ],
      "metadata": {
        "id": "6Nfi_dAYCuv8"
      }
    },
    {
      "cell_type": "code",
      "source": [
        "set_a ={1,2,3}\n",
        "set_b = {3,4,5}\n",
        "union_set_method =set_a.union(set_b)\n",
        "print(\"union using union()method:\",union_set_method)"
      ],
      "metadata": {
        "colab": {
          "base_uri": "https://localhost:8080/"
        },
        "id": "vVM-PKVdC1SN",
        "outputId": "b8a116bb-7d4e-4504-b747-749e79072938"
      },
      "execution_count": null,
      "outputs": [
        {
          "output_type": "stream",
          "name": "stdout",
          "text": [
            "union using union()method: {1, 2, 3, 4, 5}\n"
          ]
        }
      ]
    },
    {
      "cell_type": "markdown",
      "source": [
        " 20.Write a code to find the intersection of two sets {1, 2, 3} and {2, 3, 4}."
      ],
      "metadata": {
        "id": "GGTKMqfUC2H6"
      }
    },
    {
      "cell_type": "code",
      "source": [
        "set_a = {1,2,3}\n",
        "set_b = {2,3,4}\n",
        "intersection_set_method = set_a.intersection(set_b)\n",
        "print(\"intersection using intersection()method:\",intersection_set_method)"
      ],
      "metadata": {
        "colab": {
          "base_uri": "https://localhost:8080/"
        },
        "id": "5qJw4aZZC5w9",
        "outputId": "823278b2-1888-438a-a6da-c23c96a67594"
      },
      "execution_count": null,
      "outputs": [
        {
          "output_type": "stream",
          "name": "stdout",
          "text": [
            "intersection using intersection()method: {2, 3}\n"
          ]
        }
      ]
    },
    {
      "cell_type": "markdown",
      "source": [
        " 21.Write a code to create a dictionary with the keys \"name\", \"age\", and \"city\", and print it."
      ],
      "metadata": {
        "id": "XNafuz8HC6Wm"
      }
    },
    {
      "cell_type": "code",
      "source": [
        "person_info = { 'name' : 'Ayushi','age' : '25','city' : 'bhilai'}\n",
        "print(person_info)"
      ],
      "metadata": {
        "colab": {
          "base_uri": "https://localhost:8080/"
        },
        "id": "biik3wcnC_71",
        "outputId": "43a5b62f-b7ff-4136-ca74-bf06478cb56b"
      },
      "execution_count": null,
      "outputs": [
        {
          "output_type": "stream",
          "name": "stdout",
          "text": [
            "{'name': 'Ayushi', 'age': '25', 'city': 'bhilai'}\n"
          ]
        }
      ]
    },
    {
      "cell_type": "markdown",
      "source": [
        " 22.Write a code to add a new key-value pair \"country\": \"USA\" to the dictionary {'name': 'John', 'age': 25}."
      ],
      "metadata": {
        "id": "pX9DPrSlDAo1"
      }
    },
    {
      "cell_type": "code",
      "source": [
        "person_info = { 'name' : 'john','age' : '25'}\n",
        "person_info['country'] = 'USA'\n",
        "print(person_info)"
      ],
      "metadata": {
        "id": "2m6s0O8LDEGN",
        "colab": {
          "base_uri": "https://localhost:8080/"
        },
        "outputId": "6e0c8dd9-04bc-4d09-fcbe-cfdbfeea880b"
      },
      "execution_count": null,
      "outputs": [
        {
          "output_type": "stream",
          "name": "stdout",
          "text": [
            "{'name': 'john', 'age': '25', 'country': 'USA'}\n"
          ]
        }
      ]
    },
    {
      "cell_type": "markdown",
      "source": [
        " 23.Write a code to access the value associated with the key \"name\" in the dictionary {'name': 'Alice', 'age': 30}."
      ],
      "metadata": {
        "id": "vIbxZZNXDE2U"
      }
    },
    {
      "cell_type": "code",
      "source": [
        "person_info = {'name': 'Alice', 'age': '25'}\n",
        "print(person_info ['name'])\n",
        "name_value =person_info.get('name')\n",
        "print(name_value)"
      ],
      "metadata": {
        "id": "WABrAEPzDJkt",
        "colab": {
          "base_uri": "https://localhost:8080/"
        },
        "outputId": "0cddb4cf-7ab1-4f56-bc29-324cb7d68c7c"
      },
      "execution_count": null,
      "outputs": [
        {
          "output_type": "stream",
          "name": "stdout",
          "text": [
            "Alice\n",
            "Alice\n"
          ]
        }
      ]
    },
    {
      "cell_type": "markdown",
      "source": [
        " 24.Write a code to remove the key \"age\" from the dictionary {'name': 'Bob', 'age': 22, 'city': 'New York'}."
      ],
      "metadata": {
        "id": "w7436AthDLtW"
      }
    },
    {
      "cell_type": "code",
      "source": [
        "name_info = {'name': 'bob', 'age': '22', 'city': 'new york'}\n",
        "del name_info['age']\n",
        "print(name_info)"
      ],
      "metadata": {
        "id": "r691MTlvDPV1",
        "colab": {
          "base_uri": "https://localhost:8080/"
        },
        "outputId": "bb82b49a-f2df-4b4e-e02e-d45811e1878e"
      },
      "execution_count": null,
      "outputs": [
        {
          "output_type": "stream",
          "name": "stdout",
          "text": [
            "{'name': 'bob', 'city': 'new york'}\n"
          ]
        }
      ]
    },
    {
      "cell_type": "markdown",
      "source": [
        " 25.Write a code to check if the key \"city\" exists in the dictionary {'name': 'Alice', 'city': 'Paris'}."
      ],
      "metadata": {
        "id": "AyUK__F0DQEy"
      }
    },
    {
      "cell_type": "code",
      "source": [
        "from sys import int_info\n",
        "name_info = {'name': 'Alice', 'city': 'paris'}\n",
        "if 'city' in name_info:\n",
        "    print('city is in the dictionary')\n",
        "    print(name_info['city'])\n",
        "\n",
        "else:\n",
        "    print('city is not in the dictionary')"
      ],
      "metadata": {
        "id": "H05UG6GQDUMN",
        "colab": {
          "base_uri": "https://localhost:8080/"
        },
        "outputId": "c76d39eb-b5f1-4b8f-969a-7a2275f837a1"
      },
      "execution_count": null,
      "outputs": [
        {
          "output_type": "stream",
          "name": "stdout",
          "text": [
            "city is in the dictionary\n",
            "paris\n"
          ]
        }
      ]
    },
    {
      "cell_type": "markdown",
      "source": [
        " 26.. Write a code to create a list, a tuple, and a dictionary, and print them all."
      ],
      "metadata": {
        "id": "mMrSJ5StDVJO"
      }
    },
    {
      "cell_type": "code",
      "source": [
        "#creating a list\n",
        "my_list = [1,2,3,4,5]\n",
        "\n",
        "#creating a tuple\n",
        "my_tuple = (10,20,30,40,50)\n",
        "\n",
        "#creating a dictionary\n",
        "my_dic = {'name': 'Bob','age': '20','city': 'New york'}\n",
        "\n",
        "print(\"list\",my_list)\n",
        "print(\"tuple\",my_tuple)\n",
        "print(\"dictionary\",my_dic)"
      ],
      "metadata": {
        "id": "5BBpmEpoDYX1",
        "colab": {
          "base_uri": "https://localhost:8080/"
        },
        "outputId": "81cffdc5-59d7-4f52-c8bc-cce4298a5ea2"
      },
      "execution_count": null,
      "outputs": [
        {
          "output_type": "stream",
          "name": "stdout",
          "text": [
            "list [1, 2, 3, 4, 5]\n",
            "tuple (10, 20, 30, 40, 50)\n",
            "dictionary {'name': 'Bob', 'age': '20', 'city': 'New york'}\n"
          ]
        }
      ]
    },
    {
      "cell_type": "markdown",
      "source": [
        " 27.Write a code to create a list of 5 random numbers between 1 and 100, sort it in ascending order, and print the\n",
        "result.(replaced)"
      ],
      "metadata": {
        "id": "looYhK1wDZSu"
      }
    },
    {
      "cell_type": "markdown",
      "source": [
        " 28.Write a code to create a list with strings and print the element at the third index."
      ],
      "metadata": {
        "id": "GQNSm_qhDe8w"
      }
    },
    {
      "cell_type": "code",
      "source": [
        "# Creating a list with strings\n",
        "string_list = [\"apple\", \"banana\", \"cherry\", \"date\", \"elderberry\"]\n",
        "\n",
        "# Printing the element at the third index\n",
        "print(\"Element at index 3:\", string_list[3])"
      ],
      "metadata": {
        "id": "qKCEHN3LDiu9",
        "colab": {
          "base_uri": "https://localhost:8080/"
        },
        "outputId": "c8124bd3-470b-4ae2-b9fe-d78985de39af"
      },
      "execution_count": null,
      "outputs": [
        {
          "output_type": "stream",
          "name": "stdout",
          "text": [
            "Element at index 3: date\n"
          ]
        }
      ]
    },
    {
      "cell_type": "markdown",
      "source": [
        " 29.Write a code to combine two dictionaries into one and print the result.\n",
        "\n"
      ],
      "metadata": {
        "id": "1Ppm93CKDjW9"
      }
    },
    {
      "cell_type": "code",
      "source": [
        "dict1 = {'a': 1, 'b': 2}\n",
        "dict2 = {'b': 3, 'c': 4}\n",
        "\n",
        "# Combine the dictionaries using update\n",
        "combined_dict = dict1.copy()  # Make a copy of the first dictionary\n",
        "combined_dict.update(dict2)    # Update it with the second dictionary\n",
        "print(\"Combined Dictionary using update():\", combined_dict)"
      ],
      "metadata": {
        "id": "Frc_2Y3_Dmpt",
        "colab": {
          "base_uri": "https://localhost:8080/"
        },
        "outputId": "f1e576ed-1853-42ff-c3d8-df8efc62535b"
      },
      "execution_count": null,
      "outputs": [
        {
          "output_type": "stream",
          "name": "stdout",
          "text": [
            "Combined Dictionary using update(): {'a': 1, 'b': 3, 'c': 4}\n"
          ]
        }
      ]
    },
    {
      "cell_type": "markdown",
      "source": [
        " 30.Write a code to convert a list of strings into a set."
      ],
      "metadata": {
        "id": "ke3t93uEDnOy"
      }
    },
    {
      "cell_type": "code",
      "source": [
        "string_list = ['apple','banana','cherry','date']\n",
        "string_set =set(string_list)\n",
        "print(\"Set from the list of strings:\", string_set)\n"
      ],
      "metadata": {
        "id": "sQa5pzFWDqel",
        "colab": {
          "base_uri": "https://localhost:8080/"
        },
        "outputId": "c6679cfb-c1c6-4aae-95ba-b293ec691f26"
      },
      "execution_count": null,
      "outputs": [
        {
          "output_type": "stream",
          "name": "stdout",
          "text": [
            "Set from the list of strings: {'apple', 'date', 'banana', 'cherry'}\n"
          ]
        }
      ]
    }
  ]
}